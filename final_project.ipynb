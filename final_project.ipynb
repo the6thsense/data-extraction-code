{
 "cells": [
  {
   "cell_type": "code",
   "execution_count": 4,
   "metadata": {},
   "outputs": [
    {
     "name": "stdout",
     "output_type": "stream",
     "text": [
      "0.00243377685546875 32\n"
     ]
    }
   ],
   "source": [
    "from pdb_file_extracter import * \n",
    "import numpy as np\n",
    "import numpy.core.defchararray as np_f\n",
    "import time\n",
    "import sys\n",
    "import collections\n",
    "\n",
    "\n",
    "extract = extract ('/home/sanchit/Downloads/1a3n.txt')\n",
    "\n",
    "def genpep_of(extract): \n",
    "    \n",
    "    #import module named pdb_file_extracter for this to work\n",
    "    \n",
    "    \n",
    "    extract = list(set(extract))\n",
    "    org = [[],[],[],[],[]]\n",
    "    for i in extract:\n",
    "        len_pro_chain = len(i.strip())\n",
    "        xa = range(len(i.strip()))\n",
    "\n",
    "        for a in xa:\n",
    "\n",
    "            for alpha in [2,3,4,5,6]:\n",
    "                if len_pro_chain > alpha + a:\n",
    "                    org[alpha-2].append(i[ a : alpha + a ])\n",
    "\n",
    "                elif len_pro_chain <  alpha + a and  len_pro_chain - a -alpha >=0 :\n",
    "                    org[len_pro_chain - a - 2 ].append(i[a : len_pro_chain])\n",
    "        \n",
    "    return org\n",
    "\n",
    "\n",
    "def unique_pep(peptides):     #pepties here is the nested- list of peptides according to there number of aminoacids\n",
    "    store = []\n",
    "    for i in peptides:\n",
    "        new = list(set(i))\n",
    "        new.sort()\n",
    "        store.append(new)\n",
    "    return store\n",
    "\n",
    "\n",
    "\n",
    "\n",
    "start =time.time()\n",
    "\n",
    "\n",
    "peptides = genpep_of(extract)\n",
    "\n",
    "pep_fre = []\n",
    "for i in peptides:\n",
    "    \n",
    "    pep_fre.append(collections.Counter(i))\n",
    "string = ''\n",
    "main_string = ''\n",
    "\n",
    "\n",
    "for j in pep_fre:\n",
    "    \n",
    "    for a in dict.keys(j):\n",
    "        \n",
    "        string= string+str(a)+\"   \"+str(j[a])+\"\\n\"\n",
    "    \n",
    "    main_string = main_string +\"\\n\"+string\n",
    "string = None\n",
    "j = None\n",
    "i = None\n",
    "with open(\"/home/sanchit/Desktop/POSITION_FILES_OF_AMINOACIDS/VAL.txt\",'w') as output:\n",
    "    \n",
    "    output.write(main_string)\n",
    "main_string = None\n",
    "peptides = None\n",
    "\n",
    "print(time.time()-start,sys.getsizeof(main_string)+sys.getsizeof(peptides)) "
   ]
  },
  {
   "cell_type": "code",
   "execution_count": 1,
   "metadata": {},
   "outputs": [
    {
     "ename": "NameError",
     "evalue": "name 'aa_file_num' is not defined",
     "output_type": "error",
     "traceback": [
      "\u001b[0;31m---------------------------------------------------------------------------\u001b[0m",
      "\u001b[0;31mNameError\u001b[0m                                 Traceback (most recent call last)",
      "\u001b[0;32m<ipython-input-1-9ef9753e6004>\u001b[0m in \u001b[0;36m<module>\u001b[0;34m\u001b[0m\n\u001b[1;32m     35\u001b[0m \u001b[0m_1a3n\u001b[0m \u001b[0;34m=\u001b[0m \u001b[0mfile\u001b[0m\u001b[0;34m(\u001b[0m\u001b[0;34m\"1a3n\"\u001b[0m\u001b[0;34m)\u001b[0m\u001b[0;34m\u001b[0m\u001b[0;34m\u001b[0m\u001b[0m\n\u001b[1;32m     36\u001b[0m \u001b[0;34m\u001b[0m\u001b[0m\n\u001b[0;32m---> 37\u001b[0;31m \u001b[0m_1a3n\u001b[0m\u001b[0;34m.\u001b[0m\u001b[0mextract\u001b[0m\u001b[0;34m(\u001b[0m\u001b[0maa_file_num\u001b[0m \u001b[0;34m)\u001b[0m\u001b[0;34m\u001b[0m\u001b[0;34m\u001b[0m\u001b[0m\n\u001b[0m\u001b[1;32m     38\u001b[0m \u001b[0;34m\u001b[0m\u001b[0m\n",
      "\u001b[0;31mNameError\u001b[0m: name 'aa_file_num' is not defined"
     ]
    }
   ],
   "source": [
    "import numpy as np\n",
    "import os\n",
    "\n",
    "def unique_based(a):\n",
    "    a = np.ascontiguousarray(a)\n",
    "    unique_a = np.unique(a.view([('', a.dtype)]*a.shape[1]))\n",
    "    return unique_a.view(a.dtype).reshape((unique_a.shape[0], a.shape[1]))\n",
    "\n",
    "\n",
    "class pdb_file :\n",
    "    def __init__(self,name)\n",
    "        os.rename(file,name)\n",
    "        self.name = name\n",
    "        open(adress+name+\".txt\")\n",
    "        \n",
    "    "
   ]
  },
  {
   "cell_type": "code",
   "execution_count": 2,
   "metadata": {},
   "outputs": [
    {
     "ename": "ValueError",
     "evalue": "cannot copy sequence with size 146 to array axis with dimension 2",
     "output_type": "error",
     "traceback": [
      "\u001b[0;31m---------------------------------------------------------------------------\u001b[0m",
      "\u001b[0;31mValueError\u001b[0m                                Traceback (most recent call last)",
      "\u001b[0;32m<ipython-input-2-d9562fb72ab5>\u001b[0m in \u001b[0;36m<module>\u001b[0;34m\u001b[0m\n\u001b[1;32m      5\u001b[0m \u001b[0ma\u001b[0m \u001b[0;34m=\u001b[0m \u001b[0mtime\u001b[0m\u001b[0;34m.\u001b[0m\u001b[0mtime\u001b[0m\u001b[0;34m(\u001b[0m\u001b[0;34m)\u001b[0m\u001b[0;34m\u001b[0m\u001b[0;34m\u001b[0m\u001b[0m\n\u001b[1;32m      6\u001b[0m \u001b[0mc\u001b[0m \u001b[0;34m=\u001b[0m \u001b[0mnp\u001b[0m\u001b[0;34m.\u001b[0m\u001b[0marray\u001b[0m\u001b[0;34m(\u001b[0m\u001b[0;34m(\u001b[0m\u001b[0;36m2\u001b[0m\u001b[0;34m,\u001b[0m\u001b[0;36m73\u001b[0m\u001b[0;34m)\u001b[0m\u001b[0;34m)\u001b[0m\u001b[0;34m\u001b[0m\u001b[0;34m\u001b[0m\u001b[0m\n\u001b[0;32m----> 7\u001b[0;31m \u001b[0mc\u001b[0m\u001b[0;34m[\u001b[0m\u001b[0;34m:\u001b[0m\u001b[0;34m]\u001b[0m\u001b[0;34m=\u001b[0m \u001b[0;34m\"GHFTEEDKATITSLWGKVNVEDAGGETLGRLLVVYPWTQRFFDSFGNLSSASAIMGNPKVKAHGKKVLTSLGDAIKHLDDLKGTFAQLSELHCDKLHVDPENFKLLGNVLVTVLAIHFGKEFTPEVQASWQKMVTGVASALSSRYH\"\u001b[0m\u001b[0;34m.\u001b[0m\u001b[0mreplace\u001b[0m\u001b[0;34m(\u001b[0m\u001b[0;34m''\u001b[0m\u001b[0;34m,\u001b[0m\u001b[0;34m' '\u001b[0m\u001b[0;34m)\u001b[0m\u001b[0;34m.\u001b[0m\u001b[0mstrip\u001b[0m\u001b[0;34m(\u001b[0m\u001b[0;34m)\u001b[0m\u001b[0;34m.\u001b[0m\u001b[0msplit\u001b[0m\u001b[0;34m(\u001b[0m\u001b[0;34m' '\u001b[0m\u001b[0;34m)\u001b[0m\u001b[0;34m\u001b[0m\u001b[0;34m\u001b[0m\u001b[0m\n\u001b[0m\u001b[1;32m      8\u001b[0m \u001b[0;31m#c = np.chararray(\"GHFTEEDKATITSLWGKVNVEDAGGETLGRLLVVYPWTQRFFDSFGNLSSASAIMGNPKVKAHGKKVLTSLGDAIKHLDDLKGTFAQLSELHCDKLHVDPENFKLLGNVLVTVLAIHFGKEFTPEVQASWQKMVTGVASALSSRYH\".replace('',' ').strip().split(' ')\u001b[0m\u001b[0;34m\u001b[0m\u001b[0;34m\u001b[0m\u001b[0;34m\u001b[0m\u001b[0m\n\u001b[1;32m      9\u001b[0m \u001b[0;31m#                )\u001b[0m\u001b[0;34m\u001b[0m\u001b[0;34m\u001b[0m\u001b[0;34m\u001b[0m\u001b[0m\n",
      "\u001b[0;31mValueError\u001b[0m: cannot copy sequence with size 146 to array axis with dimension 2"
     ]
    }
   ],
   "source": [
    "import time\n",
    "import numpy as np\n",
    "a=0\n",
    "c = None\n",
    "a = time.time()\n",
    "c = np.array((2,73))\n",
    "c[:]= \"GHFTEEDKATITSLWGKVNVEDAGGETLGRLLVVYPWTQRFFDSFGNLSSASAIMGNPKVKAHGKKVLTSLGDAIKHLDDLKGTFAQLSELHCDKLHVDPENFKLLGNVLVTVLAIHFGKEFTPEVQASWQKMVTGVASALSSRYH\".replace('',' ').strip().split(' ')\n",
    "#c = np.chararray(\"GHFTEEDKATITSLWGKVNVEDAGGETLGRLLVVYPWTQRFFDSFGNLSSASAIMGNPKVKAHGKKVLTSLGDAIKHLDDLKGTFAQLSELHCDKLHVDPENFKLLGNVLVTVLAIHFGKEFTPEVQASWQKMVTGVASALSSRYH\".replace('',' ').strip().split(' ')\n",
    "#                )\n",
    "\n",
    "print(time.time()-a)"
   ]
  },
  {
   "cell_type": "code",
   "execution_count": null,
   "metadata": {},
   "outputs": [],
   "source": []
  }
 ],
 "metadata": {
  "kernelspec": {
   "display_name": "Python 3",
   "language": "python",
   "name": "python3"
  }
 },
 "nbformat": 4,
 "nbformat_minor": 2
}
